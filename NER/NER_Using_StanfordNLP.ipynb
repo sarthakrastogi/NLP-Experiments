{
  "nbformat": 4,
  "nbformat_minor": 0,
  "metadata": {
    "colab": {
      "name": "NER Using StanfordNLP.ipynb",
      "provenance": [],
      "collapsed_sections": []
    },
    "kernelspec": {
      "name": "python3",
      "display_name": "Python 3"
    },
    "language_info": {
      "name": "python"
    }
  },
  "cells": [
    {
      "cell_type": "markdown",
      "source": [
        "StanfordNLP is written in Java but NLTK has a nice wrapped to implement it in Python."
      ],
      "metadata": {
        "id": "xjWGQctwxSO3"
      }
    },
    {
      "cell_type": "code",
      "source": [
        "!pip3 install nltk==3.2.4"
      ],
      "metadata": {
        "colab": {
          "base_uri": "https://localhost:8080/"
        },
        "id": "7E48YPVQrTTQ",
        "outputId": "b9b9a198-e181-40d1-cd5a-c4091a60454f"
      },
      "execution_count": null,
      "outputs": [
        {
          "output_type": "stream",
          "name": "stdout",
          "text": [
            "Collecting nltk==3.2.4\n",
            "  Downloading nltk-3.2.4.tar.gz (1.2 MB)\n",
            "\u001b[K     |████████████████████████████████| 1.2 MB 3.2 MB/s \n",
            "\u001b[?25hRequirement already satisfied: six in /usr/local/lib/python3.7/dist-packages (from nltk==3.2.4) (1.15.0)\n",
            "Building wheels for collected packages: nltk\n",
            "  Building wheel for nltk (setup.py) ... \u001b[?25l\u001b[?25hdone\n",
            "  Created wheel for nltk: filename=nltk-3.2.4-py3-none-any.whl size=1367720 sha256=1bdf2a7990f48978fe27f9066edd5f30541173e71977747f4acb619f2f7af8fe\n",
            "  Stored in directory: /root/.cache/pip/wheels/90/5e/9e/4cb46185f2a16c60e6fc524372ba7fef89ce3347734c8798b6\n",
            "Successfully built nltk\n",
            "Installing collected packages: nltk\n",
            "  Attempting uninstall: nltk\n",
            "    Found existing installation: nltk 3.2.5\n",
            "    Uninstalling nltk-3.2.5:\n",
            "      Successfully uninstalled nltk-3.2.5\n",
            "Successfully installed nltk-3.2.4\n"
          ]
        }
      ]
    },
    {
      "cell_type": "code",
      "source": [
        "!wget http://nlp.stanford.edu/software/stanford-ner-2015-04-20.zip\n",
        "!unzip stanford-ner-2015-04-20.zip "
      ],
      "metadata": {
        "colab": {
          "base_uri": "https://localhost:8080/"
        },
        "id": "YUr5ROarrTQH",
        "outputId": "0ed689b5-dde3-4e8f-a374-3bec20305ecb"
      },
      "execution_count": null,
      "outputs": [
        {
          "output_type": "stream",
          "name": "stdout",
          "text": [
            "--2022-03-18 06:30:55--  http://nlp.stanford.edu/software/stanford-ner-2015-04-20.zip\n",
            "Resolving nlp.stanford.edu (nlp.stanford.edu)... 171.64.67.140\n",
            "Connecting to nlp.stanford.edu (nlp.stanford.edu)|171.64.67.140|:80... connected.\n",
            "HTTP request sent, awaiting response... 302 Found\n",
            "Location: https://nlp.stanford.edu/software/stanford-ner-2015-04-20.zip [following]\n",
            "--2022-03-18 06:30:55--  https://nlp.stanford.edu/software/stanford-ner-2015-04-20.zip\n",
            "Connecting to nlp.stanford.edu (nlp.stanford.edu)|171.64.67.140|:443... connected.\n",
            "HTTP request sent, awaiting response... 302 FOUND\n",
            "Location: https://downloads.cs.stanford.edu/nlp/software/stanford-ner-2015-04-20.zip [following]\n",
            "--2022-03-18 06:30:56--  https://downloads.cs.stanford.edu/nlp/software/stanford-ner-2015-04-20.zip\n",
            "Resolving downloads.cs.stanford.edu (downloads.cs.stanford.edu)... 171.64.64.22\n",
            "Connecting to downloads.cs.stanford.edu (downloads.cs.stanford.edu)|171.64.64.22|:443... connected.\n",
            "HTTP request sent, awaiting response... 200 OK\n",
            "Length: 176961718 (169M) [application/zip]\n",
            "Saving to: ‘stanford-ner-2015-04-20.zip’\n",
            "\n",
            "stanford-ner-2015-0 100%[===================>] 168.76M  5.08MB/s    in 29s     \n",
            "\n",
            "2022-03-18 06:31:26 (5.75 MB/s) - ‘stanford-ner-2015-04-20.zip’ saved [176961718/176961718]\n",
            "\n",
            "Archive:  stanford-ner-2015-04-20.zip\n",
            "   creating: stanford-ner-2015-04-20/\n",
            "  inflating: stanford-ner-2015-04-20/README.txt  \n",
            "  inflating: stanford-ner-2015-04-20/ner-gui.bat  \n",
            "  inflating: stanford-ner-2015-04-20/build.xml  \n",
            "  inflating: stanford-ner-2015-04-20/stanford-ner-3.5.2.jar  \n",
            "  inflating: stanford-ner-2015-04-20/stanford-ner.jar  \n",
            "  inflating: stanford-ner-2015-04-20/sample-conll-file.txt  \n",
            "  inflating: stanford-ner-2015-04-20/sample.ner.txt  \n",
            "   creating: stanford-ner-2015-04-20/lib/\n",
            "  inflating: stanford-ner-2015-04-20/lib/jollyday-0.4.7.jar  \n",
            "  inflating: stanford-ner-2015-04-20/lib/joda-time.jar  \n",
            "  inflating: stanford-ner-2015-04-20/lib/stanford-ner-resources.jar  \n",
            "  inflating: stanford-ner-2015-04-20/ner-gui.command  \n",
            "  inflating: stanford-ner-2015-04-20/ner.sh  \n",
            "  inflating: stanford-ner-2015-04-20/NERDemo.java  \n",
            "  inflating: stanford-ner-2015-04-20/ner.bat  \n",
            "  inflating: stanford-ner-2015-04-20/stanford-ner-3.5.2-javadoc.jar  \n",
            "   creating: stanford-ner-2015-04-20/classifiers/\n",
            "  inflating: stanford-ner-2015-04-20/classifiers/english.conll.4class.distsim.prop  \n",
            "  inflating: stanford-ner-2015-04-20/classifiers/example.serialized.ncc.ncc.ser.gz  \n",
            "  inflating: stanford-ner-2015-04-20/classifiers/english.muc.7class.distsim.crf.ser.gz  \n",
            "  inflating: stanford-ner-2015-04-20/classifiers/english.conll.4class.distsim.crf.ser.gz  \n",
            "  inflating: stanford-ner-2015-04-20/classifiers/english.muc.7class.distsim.prop  \n",
            "  inflating: stanford-ner-2015-04-20/classifiers/english.all.3class.distsim.prop  \n",
            "  inflating: stanford-ner-2015-04-20/classifiers/example.serialized.ncc.prop  \n",
            "  inflating: stanford-ner-2015-04-20/classifiers/english.all.3class.distsim.crf.ser.gz  \n",
            "  inflating: stanford-ner-2015-04-20/stanford-ner-3.5.2-sources.jar  \n",
            "  inflating: stanford-ner-2015-04-20/sample.txt  \n",
            "  inflating: stanford-ner-2015-04-20/sample-w-time.txt  \n",
            "  inflating: stanford-ner-2015-04-20/ner-gui.sh  \n",
            "  inflating: stanford-ner-2015-04-20/LICENSE.txt  \n"
          ]
        }
      ]
    },
    {
      "cell_type": "code",
      "source": [
        "from nltk.tag.stanford import StanfordNERTagger\n",
        "jar = \"stanford-ner-2015-04-20/stanford-ner-3.5.2.jar\"\n",
        "model = \"stanford-ner-2015-04-20/classifiers/\"\n",
        "st_7class = StanfordNERTagger(model + \"english.muc.7class.distsim.crf.ser.gz\", jar, encoding='utf8') "
      ],
      "metadata": {
        "id": "GZ4GTFP5rTMv"
      },
      "execution_count": null,
      "outputs": []
    },
    {
      "cell_type": "code",
      "source": [
        "def stanford_ner(document):\n",
        "    return [(entity,tag) for entity,tag in st_7class.tag(document.split()) if tag != \"O\"]"
      ],
      "metadata": {
        "id": "mYezzqIarTJ5"
      },
      "execution_count": null,
      "outputs": []
    },
    {
      "cell_type": "code",
      "source": [
        "stanford_ner(text)"
      ],
      "metadata": {
        "colab": {
          "base_uri": "https://localhost:8080/"
        },
        "id": "gB6xiQD-rZOs",
        "outputId": "fe48b4b3-ddac-4eee-8cfc-80efab308da0"
      },
      "execution_count": null,
      "outputs": [
        {
          "output_type": "execute_result",
          "data": {
            "text/plain": [
              "[('Poland', 'LOCATION'),\n",
              " ('18', 'DATE'),\n",
              " ('Mar', 'DATE'),\n",
              " ('2022', 'DATE'),\n",
              " ('18', 'DATE'),\n",
              " ('Mar', 'DATE'),\n",
              " ('2022', 'DATE'),\n",
              " ('Biden', 'PERSON'),\n",
              " ('US', 'LOCATION'),\n",
              " ('Rus\\xadsia', 'LOCATION'),\n",
              " ('US', 'LOCATION'),\n",
              " ('Mar', 'DATE'),\n",
              " ('2022', 'DATE'),\n",
              " ('18', 'DATE'),\n",
              " ('Mar', 'DATE'),\n",
              " ('2022', 'DATE'),\n",
              " ('Joe', 'PERSON'),\n",
              " ('Biden', 'PERSON')]"
            ]
          },
          "metadata": {},
          "execution_count": 7
        }
      ]
    }
  ]
}
